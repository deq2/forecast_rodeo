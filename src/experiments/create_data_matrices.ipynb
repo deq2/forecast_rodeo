{
 "cells": [
  {
   "cell_type": "markdown",
   "metadata": {},
   "source": [
    "## Load packages"
   ]
  },
  {
   "cell_type": "code",
   "execution_count": 1,
   "metadata": {},
   "outputs": [],
   "source": [
    "# Autoreload packages that are modified\n",
    "%load_ext autoreload\n",
    "%autoreload 2\n",
    "\n",
    "import os\n",
    "import sys\n",
    "\n",
    "# Ensure correct working directory\n",
    "if os.path.basename(os.getcwd()) == \"experiments\":\n",
    "    os.chdir(os.path.join(\"..\",\"..\"))\n",
    "\n",
    "# Adds 'experiments' folder to path to load experiments_util\n",
    "sys.path.insert(0, 'src/experiments')\n",
    "# Load general utility functions\n",
    "from experiments_util import *"
   ]
  },
  {
   "cell_type": "markdown",
   "metadata": {},
   "source": [
    "## Create (shared) data matrices\n",
    "\n",
    "Generates two data matrices containing all needed features that vary by date only (create_date_data) or by date and latitude/longitude (create_lat_lon_date_data) and saves them to results/regression/shared."
   ]
  },
  {
   "cell_type": "code",
   "execution_count": 2,
   "metadata": {},
   "outputs": [
    {
     "name": "stdout",
     "output_type": "stream",
     "text": [
      "Loading date features\n",
      "Getting mei_shift59\n",
      "Elapsed: 1.2722799778s\n",
      "Getting mjo_shift31\n",
      "Elapsed: 0.26257109642s\n",
      "Getting pca_sst_2010_shift44\n",
      "Elapsed: 0.248100996017s\n",
      "Getting pca_icec_2010_shift44\n",
      "Elapsed: 0.239047050476s\n",
      "Getting pca_wind_hgt_10_2010_shift44\n",
      "Elapsed: 0.360852956772s\n",
      "Getting pca_wind_hgt_100_2010_shift44\n",
      "Elapsed: 0.324480056763s\n",
      "Getting pca_wind_hgt_500_2010_shift44\n",
      "Elapsed: 0.452555894852s\n",
      "Getting pca_wind_hgt_850_2010_shift44\n",
      "Elapsed: 0.372040987015s\n",
      "Loading additional date features\n",
      "Elapsed: 0.0865631103516s\n",
      "Saving date features to results/regression/shared/contest_tmp2m_56w/date_data-contest_tmp2m_56w.h5\n",
      "Elapsed: 0.571738004684s\n",
      "Finished generating date_data matrix.\n",
      "Total time elapsed: 4.2334959507s\n",
      "Loading contest mask\n",
      "Elapsed: 0.00483107566833s\n",
      "Loading lat lon date features\n",
      "Getting contest_rhum.sig995_shift44\n",
      "Elapsed: 48.7964990139s\n",
      "Getting contest_pres.sfc.gauss_shift44\n",
      "Elapsed: 92.7388989925s\n",
      "Getting contest_rhum.sig995_shift88\n",
      "Elapsed: 104.711107016s\n",
      "Getting contest_pres.sfc.gauss_shift88\n",
      "Elapsed: 93.9140100479s\n",
      "Getting contest_rhum.sig995_shift365\n",
      "Elapsed: 98.11033988s\n",
      "Getting contest_pres.sfc.gauss_shift365\n",
      "Elapsed: 96.7011630535s\n",
      "Getting nmme-tmp2m-56w_shiftNone\n",
      "data/dataframes/nmme-tmp2m-56w-1982-2018.h5\n"
     ]
    },
    {
     "ename": "IOError",
     "evalue": "File data/dataframes/nmme-tmp2m-56w-1982-2018.h5 does not exist",
     "output_type": "error",
     "traceback": [
      "\u001b[0;31m---------------------------------------------------------------------------\u001b[0m",
      "\u001b[0;31mIOError\u001b[0m                                   Traceback (most recent call last)",
      "\u001b[0;32m<ipython-input-2-15484de5014a>\u001b[0m in \u001b[0;36m<module>\u001b[0;34m()\u001b[0m\n\u001b[1;32m      5\u001b[0m \u001b[0mdate_cols\u001b[0m \u001b[0;34m=\u001b[0m \u001b[0mcreate_date_data\u001b[0m\u001b[0;34m(\u001b[0m\u001b[0mgt_id\u001b[0m\u001b[0;34m,\u001b[0m \u001b[0mtarget_horizon\u001b[0m\u001b[0;34m,\u001b[0m \u001b[0mexperiment\u001b[0m\u001b[0;34m)\u001b[0m\u001b[0;34m\u001b[0m\u001b[0m\n\u001b[1;32m      6\u001b[0m lat_lon_date_cols = create_lat_lon_date_data(gt_id, target_horizon, experiment,\n\u001b[0;32m----> 7\u001b[0;31m                                              forecast_models=[\"nmme\",\"nmme0\"])\n\u001b[0m",
      "\u001b[0;32m/datadrive/forecast_rodeo/src/experiments/experiments_util.pyc\u001b[0m in \u001b[0;36mcreate_lat_lon_date_data\u001b[0;34m(gt_id, target_horizon, experiment, past_gt_ids, forecast_models, other_lat_lon_date_features)\u001b[0m\n\u001b[1;32m   1008\u001b[0m                     \u001b[0;34m[\u001b[0m\u001b[0;36m2\u001b[0m\u001b[0;34m*\u001b[0m\u001b[0mdelta\u001b[0m \u001b[0;32mfor\u001b[0m \u001b[0mdelta\u001b[0m \u001b[0;32min\u001b[0m \u001b[0mpast_start_deltas\u001b[0m\u001b[0;34m]\u001b[0m \u001b[0;34m+\u001b[0m\u001b[0;34m\u001b[0m\u001b[0m\n\u001b[1;32m   1009\u001b[0m                     \u001b[0;34m[\u001b[0m\u001b[0;36m365\u001b[0m\u001b[0;34m]\u001b[0m\u001b[0;34m*\u001b[0m\u001b[0mlen\u001b[0m\u001b[0;34m(\u001b[0m\u001b[0mpast_gt_ids\u001b[0m\u001b[0;34m)\u001b[0m\u001b[0;34m,\u001b[0m\u001b[0;34m\u001b[0m\u001b[0m\n\u001b[0;32m-> 1010\u001b[0;31m         \u001b[0mfirst_year\u001b[0m\u001b[0;34m=\u001b[0m\u001b[0mget_first_year\u001b[0m\u001b[0;34m(\u001b[0m\u001b[0mgt_id\u001b[0m\u001b[0;34m)\u001b[0m\u001b[0;34m\u001b[0m\u001b[0m\n\u001b[0m\u001b[1;32m   1011\u001b[0m     )\n\u001b[1;32m   1012\u001b[0m \u001b[0;34m\u001b[0m\u001b[0m\n",
      "\u001b[0;32m/datadrive/forecast_rodeo/src/experiments/experiments_util.pyc\u001b[0m in \u001b[0;36mget_lat_lon_date_features\u001b[0;34m(gt_ids, gt_masks, gt_shifts, forecast_ids, forecast_masks, forecast_shifts, anom_ids, anom_masks, anom_shifts, first_year)\u001b[0m\n\u001b[1;32m    760\u001b[0m         \u001b[0mt\u001b[0m \u001b[0;34m=\u001b[0m \u001b[0mtime\u001b[0m\u001b[0;34m.\u001b[0m\u001b[0mtime\u001b[0m\u001b[0;34m(\u001b[0m\u001b[0;34m)\u001b[0m\u001b[0;34m\u001b[0m\u001b[0m\n\u001b[1;32m    761\u001b[0m         \u001b[0;31m# Load forecast with years >= first_year\u001b[0m\u001b[0;34m\u001b[0m\u001b[0;34m\u001b[0m\u001b[0m\n\u001b[0;32m--> 762\u001b[0;31m         \u001b[0mforecast\u001b[0m \u001b[0;34m=\u001b[0m \u001b[0mget_forecast\u001b[0m\u001b[0;34m(\u001b[0m\u001b[0mforecast_id\u001b[0m\u001b[0;34m,\u001b[0m \u001b[0mforecast_mask\u001b[0m\u001b[0;34m,\u001b[0m \u001b[0mshift\u001b[0m\u001b[0;34m=\u001b[0m\u001b[0mforecast_shift\u001b[0m\u001b[0;34m)\u001b[0m\u001b[0;34m\u001b[0m\u001b[0m\n\u001b[0m\u001b[1;32m    763\u001b[0m         \u001b[0;31m# Rename target start date column to \"start_date\"\u001b[0m\u001b[0;34m\u001b[0m\u001b[0;34m\u001b[0m\u001b[0m\n\u001b[1;32m    764\u001b[0m         \u001b[0mfcst_date_col\u001b[0m \u001b[0;34m=\u001b[0m \u001b[0mget_target_start_date_col\u001b[0m\u001b[0;34m(\u001b[0m\u001b[0mforecast_id\u001b[0m\u001b[0;34m)\u001b[0m\u001b[0;34m\u001b[0m\u001b[0m\n",
      "\u001b[0;32m/datadrive/forecast_rodeo/src/experiments/experiments_util.pyc\u001b[0m in \u001b[0;36mget_forecast\u001b[0;34m(forecast_id, mask_df, shift)\u001b[0m\n\u001b[1;32m    396\u001b[0m                                  forecast_id+\"-{}-{}.h5\".format(\n\u001b[1;32m    397\u001b[0m                                      first_year, last_year))\n\u001b[0;32m--> 398\u001b[0;31m     \u001b[0mforecast\u001b[0m \u001b[0;34m=\u001b[0m \u001b[0mload_forecast_from_file\u001b[0m\u001b[0;34m(\u001b[0m\u001b[0mforecast_file\u001b[0m\u001b[0;34m,\u001b[0m \u001b[0mmask_df\u001b[0m\u001b[0;34m)\u001b[0m\u001b[0;34m\u001b[0m\u001b[0m\n\u001b[0m\u001b[1;32m    399\u001b[0m     \u001b[0;32mif\u001b[0m \u001b[0mforecast_id\u001b[0m\u001b[0;34m.\u001b[0m\u001b[0mstartswith\u001b[0m\u001b[0;34m(\u001b[0m\u001b[0;34m\"nmme0\"\u001b[0m\u001b[0;34m)\u001b[0m\u001b[0;34m:\u001b[0m\u001b[0;34m\u001b[0m\u001b[0m\n\u001b[1;32m    400\u001b[0m         \u001b[0mmodels\u001b[0m \u001b[0;34m=\u001b[0m \u001b[0;34m[\u001b[0m\u001b[0;34m'cancm3_0'\u001b[0m\u001b[0;34m,\u001b[0m \u001b[0;34m'cancm4_0'\u001b[0m\u001b[0;34m,\u001b[0m \u001b[0;34m'ccsm4_0'\u001b[0m\u001b[0;34m,\u001b[0m \u001b[0;34m'gfdl_0'\u001b[0m\u001b[0;34m,\u001b[0m \u001b[0;34m'gfdl-flor-a_0'\u001b[0m\u001b[0;34m,\u001b[0m \u001b[0;34m'gfdl-flor-b_0'\u001b[0m\u001b[0;34m,\u001b[0m \u001b[0;34m'cfsv2_0'\u001b[0m\u001b[0;34m]\u001b[0m\u001b[0;34m\u001b[0m\u001b[0m\n",
      "\u001b[0;32m/datadrive/forecast_rodeo/src/experiments/experiments_util.pyc\u001b[0m in \u001b[0;36mload_forecast_from_file\u001b[0;34m(file_name, mask_df)\u001b[0m\n\u001b[1;32m    369\u001b[0m     \u001b[0;31m# Load forecast dataframe\u001b[0m\u001b[0;34m\u001b[0m\u001b[0;34m\u001b[0m\u001b[0m\n\u001b[1;32m    370\u001b[0m     \u001b[0;32mprint\u001b[0m \u001b[0mfile_name\u001b[0m\u001b[0;34m\u001b[0m\u001b[0m\n\u001b[0;32m--> 371\u001b[0;31m     \u001b[0mforecast\u001b[0m \u001b[0;34m=\u001b[0m \u001b[0mpd\u001b[0m\u001b[0;34m.\u001b[0m\u001b[0mread_hdf\u001b[0m\u001b[0;34m(\u001b[0m\u001b[0mfile_name\u001b[0m\u001b[0;34m)\u001b[0m\u001b[0;34m\u001b[0m\u001b[0m\n\u001b[0m\u001b[1;32m    372\u001b[0m     \u001b[0;32mif\u001b[0m \u001b[0mmask_df\u001b[0m \u001b[0;32mis\u001b[0m \u001b[0;32mnot\u001b[0m \u001b[0mNone\u001b[0m\u001b[0;34m:\u001b[0m\u001b[0;34m\u001b[0m\u001b[0m\n\u001b[1;32m    373\u001b[0m         \u001b[0;31m# Restrict output to requested lat, lon pairs\u001b[0m\u001b[0;34m\u001b[0m\u001b[0;34m\u001b[0m\u001b[0m\n",
      "\u001b[0;32m/home/dequillen/miniconda3/envs/subseason/lib/python2.7/site-packages/pandas/io/pytables.pyc\u001b[0m in \u001b[0;36mread_hdf\u001b[0;34m(path_or_buf, key, mode, **kwargs)\u001b[0m\n\u001b[1;32m    336\u001b[0m         \u001b[0;32mif\u001b[0m \u001b[0;32mnot\u001b[0m \u001b[0mexists\u001b[0m\u001b[0;34m:\u001b[0m\u001b[0;34m\u001b[0m\u001b[0m\n\u001b[1;32m    337\u001b[0m             raise compat.FileNotFoundError(\n\u001b[0;32m--> 338\u001b[0;31m                 'File %s does not exist' % path_or_buf)\n\u001b[0m\u001b[1;32m    339\u001b[0m \u001b[0;34m\u001b[0m\u001b[0m\n\u001b[1;32m    340\u001b[0m         \u001b[0mstore\u001b[0m \u001b[0;34m=\u001b[0m \u001b[0mHDFStore\u001b[0m\u001b[0;34m(\u001b[0m\u001b[0mpath_or_buf\u001b[0m\u001b[0;34m,\u001b[0m \u001b[0mmode\u001b[0m\u001b[0;34m=\u001b[0m\u001b[0mmode\u001b[0m\u001b[0;34m,\u001b[0m \u001b[0;34m**\u001b[0m\u001b[0mkwargs\u001b[0m\u001b[0;34m)\u001b[0m\u001b[0;34m\u001b[0m\u001b[0m\n",
      "\u001b[0;31mIOError\u001b[0m: File data/dataframes/nmme-tmp2m-56w-1982-2018.h5 does not exist"
     ]
    }
   ],
   "source": [
    "gt_id = \"contest_tmp2m\" # \"contest_precip\" or \"contest_tmp2m\"\n",
    "target_horizon = \"56w\" # \"34w\" or \"56w\"\n",
    "experiment = \"regression\"\n",
    "\n",
    "date_cols = create_date_data(gt_id, target_horizon, experiment)\n",
    "lat_lon_date_cols = create_lat_lon_date_data(gt_id, target_horizon, experiment,\n",
    "                                             forecast_models=[\"nmme\",\"nmme0\"])"
   ]
  },
  {
   "cell_type": "code",
   "execution_count": null,
   "metadata": {},
   "outputs": [],
   "source": []
  }
 ],
 "metadata": {
  "kernelspec": {
   "display_name": "Python 2",
   "language": "python",
   "name": "python2"
  },
  "language_info": {
   "codemirror_mode": {
    "name": "ipython",
    "version": 2
   },
   "file_extension": ".py",
   "mimetype": "text/x-python",
   "name": "python",
   "nbconvert_exporter": "python",
   "pygments_lexer": "ipython2",
   "version": "2.7.18"
  }
 },
 "nbformat": 4,
 "nbformat_minor": 2
}
