{
 "cells": [
  {
   "cell_type": "code",
   "execution_count": 2,
   "metadata": {},
   "outputs": [],
   "source": [
    "# Autoreload packages that are modified\n",
    "%load_ext autoreload\n",
    "%autoreload 2\n",
    "\n",
    "# Load relevant packages\n",
    "from joblib import Parallel, delayed\n",
    "import numpy as np\n",
    "import pandas as pd\n",
    "from sklearn import *\n",
    "import sys\n",
    "import subprocess\n",
    "from datetime import datetime, timedelta\n",
    "import netCDF4\n",
    "import time\n",
    "from functools import partial\n",
    "import os\n",
    "\n",
    "if os.path.basename(os.getcwd()) == \"experiments\":\n",
    "    os.chdir(os.path.join(\"..\",\"..\"))\n",
    "\n",
    "# Adds 'experiments' folder to path to load experiments_util\n",
    "sys.path.insert(0, 'src/experiments')\n",
    "# Load general utility functions\n",
    "from experiments_util import *\n",
    "# Load functionality for fitting and predicting\n",
    "from fit_and_predict import *\n",
    "# Load functionality for evaluation\n",
    "from skill import *\n",
    "# Load functionality for stepwise regression\n",
    "from stepwise_util import *\n",
    "from backward_stepwise_pll import backward_stepwise"
   ]
  },
  {
   "cell_type": "code",
   "execution_count": 3,
   "metadata": {},
   "outputs": [],
   "source": [
    "#\n",
    "# Choose experiment parameters\n",
    "#\n",
    "gt_id = \"contest_tmp2m\" # \"contest_precip\" or \"contest_tmp2m\"\n",
    "target_horizon = \"34w\" # \"34w\" or \"56w\"\n",
    "margin_in_days = 56\n",
    "criterion = \"mean\"\n",
    "\n",
    "# If run_locally is False, forecast generation jobs for each target date \n",
    "# are submitted to a batch cluster using batch_script (recommended)\n",
    "# If run_locally is True, forecast generation for each target data is \n",
    "# executed locally and sequentially and the setting of batch_script is irrelevant\n",
    "run_locally = True\n",
    "# Shell script for submitting batch job to cluster; please change to your personal \n",
    "# batch cluster submission script.\n",
    "# Usage for our script is:\n",
    "#   src/batch/quick_sbatch_python script.py\\ script_arg1\\ script_arg2 num_cores mem\n",
    "batch_script = 'src/batch/quick_sbatch_python.sh'\n",
    "num_cores = 16\n",
    "mem = \"20GB\"\n",
    "\n",
    "contest_id = get_contest_id(gt_id, target_horizon)\n",
    "\n",
    "#\n",
    "# Create list of submission dates in YYYYMMDD format\n",
    "#\n",
    "submission_dates = [datetime(y,4,18)+timedelta(14*i) for y in range(2011,2018) for i in range(26)]\n",
    "submission_dates = ['{}{:02d}{:02d}'.format(date.year, date.month, date.day) for date in submission_dates]\n",
    "\n",
    "procedure = \"backward_stepwise\"\n",
    "hindcast_features = False"
   ]
  },
  {
   "cell_type": "code",
   "execution_count": null,
   "metadata": {},
   "outputs": [
    {
     "name": "stdout",
     "output_type": "stream",
     "text": [
      "target date: 2011-07-11 00:00:00\n",
      "Using forecast features\n",
      "Elapsed time: 0.178137 seconds.\n",
      "\n",
      "Elapsed time: 3.738648 seconds.\n",
      "\n"
     ]
    }
   ],
   "source": [
    "# for submission_date_str in submission_dates:\n",
    "#     # Load result file name for checking convergence for this submission date\n",
    "#     file_name = default_result_file_names(\n",
    "#         gt_id = gt_id, \n",
    "#         target_horizon = target_horizon, \n",
    "#         margin_in_days = margin_in_days,\n",
    "#         criterion = criterion,\n",
    "#         submission_date_str = submission_date_str,\n",
    "#         procedure = \"backward_stepwise\",\n",
    "#         hindcast_folder = False,\n",
    "#         hindcast_features = False,\n",
    "#         use_knn1 = False)[\"converged\"]\n",
    "#     file_name = file_name.replace(\"contest_period\", \"2011-2018\")\n",
    "# #     print file_name\n",
    "    \n",
    "#     if not os.path.exists(file_name):\n",
    "#         backward_stepwise(gt_id, target_horizon, margin_in_days, criterion, hindcast_features, submission_date_str)"
   ]
  },
  {
   "cell_type": "code",
   "execution_count": null,
   "metadata": {},
   "outputs": [],
   "source": [
    "subset = submission_dates[0:6]\n",
    "\n",
    "n = len(subset)\n",
    "gt_ids = n*[gt_id]\n",
    "target_horizons = n*[target_horizon]\n",
    "margin_in_days_itr = n*[margin_in_days]\n",
    "criterions = n*[criterion]\n",
    "hindcast_features_itr = n*[hindcast_features]"
   ]
  },
  {
   "cell_type": "code",
   "execution_count": null,
   "metadata": {},
   "outputs": [],
   "source": [
    "Parallel(n_jobs=-1)(delayed(backward_stepwise)(gt_id, target_horizon, margin_in_days, criterion, hindcast_features, submission_date_str) for \n",
    "gt_id, target_horizon, margin_in_days, criterion, hindcast_features, submission_date_str in zip(gt_ids, target_horizons, margin_in_days_itr, criterions, hindcast_features_itr, subset))"
   ]
  },
  {
   "cell_type": "code",
   "execution_count": 31,
   "metadata": {},
   "outputs": [
    {
     "data": {
      "text/plain": [
       "[0.0, 1.0, 2.0, 3.0, 4.0, 5.0, 6.0, 7.0, 8.0, 9.0]"
      ]
     },
     "execution_count": 31,
     "metadata": {},
     "output_type": "execute_result"
    }
   ],
   "source": [
    "# from math import sqrt\n",
    "# [sqrt(i**2) for i in range(10)]"
   ]
  },
  {
   "cell_type": "code",
   "execution_count": null,
   "metadata": {},
   "outputs": [],
   "source": [
    "# [backward_stepwise((gt_id, target_horizon, margin_in_days, criterion, hindcast_features, submission_date_str)) for \n",
    "# gt_id, target_horizon, margin_in_days, criterion, hindcast_features, submission_date_str in zip(gt_ids, target_horizons, margin_in_days_itr, criterions, hindcast_features_itr, submission_dates)]"
   ]
  },
  {
   "cell_type": "code",
   "execution_count": null,
   "metadata": {},
   "outputs": [],
   "source": []
  }
 ],
 "metadata": {
  "kernelspec": {
   "display_name": "Python 2",
   "language": "python",
   "name": "python2"
  },
  "language_info": {
   "codemirror_mode": {
    "name": "ipython",
    "version": 2
   },
   "file_extension": ".py",
   "mimetype": "text/x-python",
   "name": "python",
   "nbconvert_exporter": "python",
   "pygments_lexer": "ipython2",
   "version": "2.7.18"
  }
 },
 "nbformat": 4,
 "nbformat_minor": 2
}
